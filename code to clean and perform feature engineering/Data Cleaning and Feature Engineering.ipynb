{
 "cells": [
  {
   "cell_type": "markdown",
   "id": "3cda0169",
   "metadata": {},
   "source": [
    "#### Importing Libraries and reading data"
   ]
  },
  {
   "cell_type": "code",
   "execution_count": null,
   "id": "d1b8a482",
   "metadata": {},
   "outputs": [],
   "source": [
    "import numpy as np\n",
    "import pandas as pd"
   ]
  },
  {
   "cell_type": "code",
   "execution_count": 16,
   "id": "970d1478",
   "metadata": {},
   "outputs": [],
   "source": [
    "import warnings\n",
    "warnings.filterwarnings('ignore')"
   ]
  },
  {
   "cell_type": "code",
   "execution_count": 2,
   "id": "dc829b8c",
   "metadata": {},
   "outputs": [],
   "source": [
    "df = pd.read_csv(\"raw_data.csv\")\n",
    "pd.set_option('display.max_columns', 500)\n",
    "pd.set_option('display.width', 1000)\n",
    "pd. set_option('display.max_rows', 30)"
   ]
  },
  {
   "cell_type": "code",
   "execution_count": null,
   "id": "6c7931aa",
   "metadata": {},
   "outputs": [],
   "source": []
  },
  {
   "cell_type": "markdown",
   "id": "4fb9ee69",
   "metadata": {},
   "source": [
    "#### When look at the head of this dataframe there are couple problems that I notice with it. The wins_losses_draw needs to be separated into spearate interger values. Taking a look at the data types it can be seen that several of them are saved as an object and not as a numeric values. This needs to be changed in order to be able to visualize the data contained in these columns and draw insights from them. Another problem is that there are several missing values and these need to be filled in or removed. Several fighters in this dataset have had no fights r only 1 fight which is which is the explaination for the NA values. These will either be dropped or filled in with value 0."
   ]
  },
  {
   "cell_type": "code",
   "execution_count": 3,
   "id": "c4e7270f",
   "metadata": {},
   "outputs": [
    {
     "data": {
      "text/html": [
       "<div>\n",
       "<style scoped>\n",
       "    .dataframe tbody tr th:only-of-type {\n",
       "        vertical-align: middle;\n",
       "    }\n",
       "\n",
       "    .dataframe tbody tr th {\n",
       "        vertical-align: top;\n",
       "    }\n",
       "\n",
       "    .dataframe thead th {\n",
       "        text-align: right;\n",
       "    }\n",
       "</style>\n",
       "<table border=\"1\" class=\"dataframe\">\n",
       "  <thead>\n",
       "    <tr style=\"text-align: right;\">\n",
       "      <th></th>\n",
       "      <th>name</th>\n",
       "      <th>wins_losses_draw</th>\n",
       "      <th>Strikes Landed</th>\n",
       "      <th>Strikes Attempted</th>\n",
       "      <th>Takedowns Landed</th>\n",
       "      <th>Takedowns Attempted</th>\n",
       "      <th>Significant strikes per Minute</th>\n",
       "      <th>Significant strikes Absorbed per minute</th>\n",
       "      <th>Takedown Average</th>\n",
       "      <th>Submission Average</th>\n",
       "      <th>Significant Strike Defense</th>\n",
       "      <th>Takedown Defense</th>\n",
       "      <th>Knockdown Average</th>\n",
       "      <th>Average FIght Time</th>\n",
       "      <th>Standing Position Strikes</th>\n",
       "      <th>Clinch Position Strikes</th>\n",
       "      <th>Ground Position Strikes</th>\n",
       "      <th>Wins by KO</th>\n",
       "      <th>Wins by Submission</th>\n",
       "      <th>Wins by Decision</th>\n",
       "      <th>Strikes to Head</th>\n",
       "      <th>Strikes To Body</th>\n",
       "      <th>Strikes To Leg</th>\n",
       "    </tr>\n",
       "  </thead>\n",
       "  <tbody>\n",
       "    <tr>\n",
       "      <th>0</th>\n",
       "      <td>Nariman Abbassov</td>\n",
       "      <td>0-0-0 (W-L-D)</td>\n",
       "      <td>0</td>\n",
       "      <td>0</td>\n",
       "      <td>0.0</td>\n",
       "      <td>0</td>\n",
       "      <td>00:00</td>\n",
       "      <td>0.00</td>\n",
       "      <td>0.00</td>\n",
       "      <td>0.0</td>\n",
       "      <td>0.0</td>\n",
       "      <td>0</td>\n",
       "      <td>0</td>\n",
       "      <td>0</td>\n",
       "      <td>0 (0 %)</td>\n",
       "      <td>0 (0 %)</td>\n",
       "      <td>0 (0 %)</td>\n",
       "      <td>0 (0 %)</td>\n",
       "      <td>0 (0 %)</td>\n",
       "      <td>0 (0 %)</td>\n",
       "      <td>0.0</td>\n",
       "      <td>0.0</td>\n",
       "      <td>0.0</td>\n",
       "    </tr>\n",
       "    <tr>\n",
       "      <th>1</th>\n",
       "      <td>Daichi Abe</td>\n",
       "      <td>6-1-0 (W-L-D)</td>\n",
       "      <td>171</td>\n",
       "      <td>508</td>\n",
       "      <td>1.0</td>\n",
       "      <td>2</td>\n",
       "      <td>3.80</td>\n",
       "      <td>4.49</td>\n",
       "      <td>0.33</td>\n",
       "      <td>0.0</td>\n",
       "      <td>57.0</td>\n",
       "      <td>0.33</td>\n",
       "      <td>15:00</td>\n",
       "      <td>0</td>\n",
       "      <td>146 (85%)</td>\n",
       "      <td>11 (6%)</td>\n",
       "      <td>14 (8%)</td>\n",
       "      <td>4 (67%)</td>\n",
       "      <td>2 (33%)</td>\n",
       "      <td>0 (0%)</td>\n",
       "      <td>102.0</td>\n",
       "      <td>12.0</td>\n",
       "      <td>57.0</td>\n",
       "    </tr>\n",
       "    <tr>\n",
       "      <th>2</th>\n",
       "      <td>Asjabharan _</td>\n",
       "      <td>0-0-0 (W-L-D)</td>\n",
       "      <td>0</td>\n",
       "      <td>0</td>\n",
       "      <td>0.0</td>\n",
       "      <td>0</td>\n",
       "      <td>00:00</td>\n",
       "      <td>0.00</td>\n",
       "      <td>0.00</td>\n",
       "      <td>0.0</td>\n",
       "      <td>0.0</td>\n",
       "      <td>0</td>\n",
       "      <td>0</td>\n",
       "      <td>0</td>\n",
       "      <td>0 (0 %)</td>\n",
       "      <td>0 (0 %)</td>\n",
       "      <td>0 (0 %)</td>\n",
       "      <td>0 (0 %)</td>\n",
       "      <td>0 (0 %)</td>\n",
       "      <td>0 (0 %)</td>\n",
       "      <td>0.0</td>\n",
       "      <td>0.0</td>\n",
       "      <td>0.0</td>\n",
       "    </tr>\n",
       "    <tr>\n",
       "      <th>3</th>\n",
       "      <td>Angga -</td>\n",
       "      <td>0-1-0 (W-L-D)</td>\n",
       "      <td>34</td>\n",
       "      <td>88</td>\n",
       "      <td>NaN</td>\n",
       "      <td>4</td>\n",
       "      <td>3.56</td>\n",
       "      <td>3.77</td>\n",
       "      <td>0.00</td>\n",
       "      <td>0.0</td>\n",
       "      <td>53.0</td>\n",
       "      <td>33</td>\n",
       "      <td>0.00</td>\n",
       "      <td>09:33</td>\n",
       "      <td>30 (88%)</td>\n",
       "      <td>4 (12%)</td>\n",
       "      <td>0 (0%)</td>\n",
       "      <td>0 (0 %)</td>\n",
       "      <td>0 (0 %)</td>\n",
       "      <td>0 (0 %)</td>\n",
       "      <td>17.0</td>\n",
       "      <td>6.0</td>\n",
       "      <td>11.0</td>\n",
       "    </tr>\n",
       "    <tr>\n",
       "      <th>4</th>\n",
       "      <td>Danny Abbadi</td>\n",
       "      <td>2-2-0 (W-L-D)</td>\n",
       "      <td>59</td>\n",
       "      <td>155</td>\n",
       "      <td>0.0</td>\n",
       "      <td>0</td>\n",
       "      <td>3.29</td>\n",
       "      <td>4.41</td>\n",
       "      <td>0.00</td>\n",
       "      <td>0.0</td>\n",
       "      <td>58.0</td>\n",
       "      <td>78</td>\n",
       "      <td>0.00</td>\n",
       "      <td>08:58</td>\n",
       "      <td>42 (71%)</td>\n",
       "      <td>14 (24%)</td>\n",
       "      <td>3 (5%)</td>\n",
       "      <td>0 (0 %)</td>\n",
       "      <td>0 (0 %)</td>\n",
       "      <td>0 (0 %)</td>\n",
       "      <td>51.0</td>\n",
       "      <td>8.0</td>\n",
       "      <td>0.0</td>\n",
       "    </tr>\n",
       "  </tbody>\n",
       "</table>\n",
       "</div>"
      ],
      "text/plain": [
       "               name wins_losses_draw  Strikes Landed  Strikes Attempted  Takedowns Landed  Takedowns Attempted Significant strikes per Minute  Significant strikes Absorbed per minute  Takedown Average  Submission Average  Significant Strike Defense Takedown Defense Knockdown Average Average FIght Time Standing Position Strikes Clinch Position Strikes Ground Position Strikes Wins by KO Wins by Submission Wins by Decision  Strikes to Head  Strikes To Body  Strikes To Leg\n",
       "0  Nariman Abbassov    0-0-0 (W-L-D)               0                  0               0.0                    0                          00:00                                     0.00              0.00                 0.0                         0.0                0                 0                  0                   0 (0 %)                 0 (0 %)                 0 (0 %)    0 (0 %)            0 (0 %)          0 (0 %)              0.0              0.0             0.0\n",
       "1        Daichi Abe    6-1-0 (W-L-D)             171                508               1.0                    2                           3.80                                     4.49              0.33                 0.0                        57.0             0.33             15:00                  0                 146 (85%)                 11 (6%)                 14 (8%)    4 (67%)            2 (33%)           0 (0%)            102.0             12.0            57.0\n",
       "2      Asjabharan _    0-0-0 (W-L-D)               0                  0               0.0                    0                          00:00                                     0.00              0.00                 0.0                         0.0                0                 0                  0                   0 (0 %)                 0 (0 %)                 0 (0 %)    0 (0 %)            0 (0 %)          0 (0 %)              0.0              0.0             0.0\n",
       "3           Angga -    0-1-0 (W-L-D)              34                 88               NaN                    4                           3.56                                     3.77              0.00                 0.0                        53.0               33              0.00              09:33                  30 (88%)                 4 (12%)                  0 (0%)    0 (0 %)            0 (0 %)          0 (0 %)             17.0              6.0            11.0\n",
       "4      Danny Abbadi    2-2-0 (W-L-D)              59                155               0.0                    0                           3.29                                     4.41              0.00                 0.0                        58.0               78              0.00              08:58                  42 (71%)                14 (24%)                  3 (5%)    0 (0 %)            0 (0 %)          0 (0 %)             51.0              8.0             0.0"
      ]
     },
     "execution_count": 3,
     "metadata": {},
     "output_type": "execute_result"
    }
   ],
   "source": [
    "df.head()"
   ]
  },
  {
   "cell_type": "code",
   "execution_count": 9,
   "id": "3f632bcc",
   "metadata": {},
   "outputs": [
    {
     "name": "stdout",
     "output_type": "stream",
     "text": [
      "<class 'pandas.core.frame.DataFrame'>\n",
      "RangeIndex: 2689 entries, 0 to 2688\n",
      "Data columns (total 23 columns):\n",
      " #   Column                                   Non-Null Count  Dtype  \n",
      "---  ------                                   --------------  -----  \n",
      " 0   name                                     2685 non-null   object \n",
      " 1   wins_losses_draw                         2668 non-null   object \n",
      " 2   Strikes Landed                           2689 non-null   int64  \n",
      " 3   Strikes Attempted                        2689 non-null   int64  \n",
      " 4   Takedowns Landed                         2689 non-null   float64\n",
      " 5   Takedowns Attempted                      2689 non-null   int64  \n",
      " 6   Significant strikes per Minute           2689 non-null   object \n",
      " 7   Significant strikes Absorbed per minute  2689 non-null   float64\n",
      " 8   Takedown Average                         2689 non-null   float64\n",
      " 9   Submission Average                       2689 non-null   float64\n",
      " 10  Significant Strike Defense               2689 non-null   float64\n",
      " 11  Takedown Defense                         2689 non-null   object \n",
      " 12  Knockdown Average                        2689 non-null   object \n",
      " 13  Average FIght Time                       2689 non-null   object \n",
      " 14  Standing Position Strikes                2689 non-null   object \n",
      " 15  Clinch Position Strikes                  2689 non-null   object \n",
      " 16  Ground Position Strikes                  2689 non-null   object \n",
      " 17  Wins by KO                               2689 non-null   object \n",
      " 18  Wins by Submission                       2689 non-null   object \n",
      " 19  Wins by Decision                         2689 non-null   object \n",
      " 20  Strikes to Head                          2420 non-null   float64\n",
      " 21  Strikes To Body                          2420 non-null   float64\n",
      " 22  Strikes To Leg                           2420 non-null   float64\n",
      "dtypes: float64(8), int64(3), object(12)\n",
      "memory usage: 483.3+ KB\n"
     ]
    }
   ],
   "source": [
    "df.info()"
   ]
  },
  {
   "cell_type": "code",
   "execution_count": 11,
   "id": "f8306f3b",
   "metadata": {},
   "outputs": [
    {
     "data": {
      "text/html": [
       "<div>\n",
       "<style scoped>\n",
       "    .dataframe tbody tr th:only-of-type {\n",
       "        vertical-align: middle;\n",
       "    }\n",
       "\n",
       "    .dataframe tbody tr th {\n",
       "        vertical-align: top;\n",
       "    }\n",
       "\n",
       "    .dataframe thead th {\n",
       "        text-align: right;\n",
       "    }\n",
       "</style>\n",
       "<table border=\"1\" class=\"dataframe\">\n",
       "  <thead>\n",
       "    <tr style=\"text-align: right;\">\n",
       "      <th></th>\n",
       "      <th>count</th>\n",
       "      <th>mean</th>\n",
       "      <th>std</th>\n",
       "      <th>min</th>\n",
       "      <th>25%</th>\n",
       "      <th>50%</th>\n",
       "      <th>75%</th>\n",
       "      <th>max</th>\n",
       "    </tr>\n",
       "  </thead>\n",
       "  <tbody>\n",
       "    <tr>\n",
       "      <th>Strikes Landed</th>\n",
       "      <td>2689.0</td>\n",
       "      <td>191.338044</td>\n",
       "      <td>274.986785</td>\n",
       "      <td>0.0</td>\n",
       "      <td>16.00</td>\n",
       "      <td>83.00</td>\n",
       "      <td>253.00</td>\n",
       "      <td>2975.00</td>\n",
       "    </tr>\n",
       "    <tr>\n",
       "      <th>Strikes Attempted</th>\n",
       "      <td>2689.0</td>\n",
       "      <td>433.875418</td>\n",
       "      <td>620.175338</td>\n",
       "      <td>0.0</td>\n",
       "      <td>40.00</td>\n",
       "      <td>195.00</td>\n",
       "      <td>560.00</td>\n",
       "      <td>6324.00</td>\n",
       "    </tr>\n",
       "    <tr>\n",
       "      <th>Takedowns Landed</th>\n",
       "      <td>2689.0</td>\n",
       "      <td>2.347713</td>\n",
       "      <td>6.967769</td>\n",
       "      <td>0.0</td>\n",
       "      <td>0.00</td>\n",
       "      <td>0.00</td>\n",
       "      <td>1.00</td>\n",
       "      <td>90.00</td>\n",
       "    </tr>\n",
       "    <tr>\n",
       "      <th>Takedowns Attempted</th>\n",
       "      <td>2689.0</td>\n",
       "      <td>15.307921</td>\n",
       "      <td>25.264281</td>\n",
       "      <td>0.0</td>\n",
       "      <td>1.00</td>\n",
       "      <td>6.00</td>\n",
       "      <td>18.00</td>\n",
       "      <td>274.00</td>\n",
       "    </tr>\n",
       "    <tr>\n",
       "      <th>Significant strikes Absorbed per minute</th>\n",
       "      <td>2689.0</td>\n",
       "      <td>3.414277</td>\n",
       "      <td>3.187426</td>\n",
       "      <td>0.0</td>\n",
       "      <td>2.07</td>\n",
       "      <td>3.15</td>\n",
       "      <td>4.35</td>\n",
       "      <td>84.00</td>\n",
       "    </tr>\n",
       "    <tr>\n",
       "      <th>Takedown Average</th>\n",
       "      <td>2689.0</td>\n",
       "      <td>1.296527</td>\n",
       "      <td>1.759122</td>\n",
       "      <td>0.0</td>\n",
       "      <td>0.00</td>\n",
       "      <td>0.78</td>\n",
       "      <td>2.00</td>\n",
       "      <td>29.03</td>\n",
       "    </tr>\n",
       "    <tr>\n",
       "      <th>Submission Average</th>\n",
       "      <td>2689.0</td>\n",
       "      <td>0.587531</td>\n",
       "      <td>1.430495</td>\n",
       "      <td>0.0</td>\n",
       "      <td>0.00</td>\n",
       "      <td>0.00</td>\n",
       "      <td>0.75</td>\n",
       "      <td>29.03</td>\n",
       "    </tr>\n",
       "    <tr>\n",
       "      <th>Significant Strike Defense</th>\n",
       "      <td>2689.0</td>\n",
       "      <td>45.251023</td>\n",
       "      <td>20.736222</td>\n",
       "      <td>0.0</td>\n",
       "      <td>41.00</td>\n",
       "      <td>52.00</td>\n",
       "      <td>59.00</td>\n",
       "      <td>100.00</td>\n",
       "    </tr>\n",
       "    <tr>\n",
       "      <th>Strikes to Head</th>\n",
       "      <td>2420.0</td>\n",
       "      <td>134.948347</td>\n",
       "      <td>183.439109</td>\n",
       "      <td>0.0</td>\n",
       "      <td>19.00</td>\n",
       "      <td>65.00</td>\n",
       "      <td>177.00</td>\n",
       "      <td>2040.00</td>\n",
       "    </tr>\n",
       "    <tr>\n",
       "      <th>Strikes To Body</th>\n",
       "      <td>2420.0</td>\n",
       "      <td>43.426860</td>\n",
       "      <td>62.161241</td>\n",
       "      <td>0.0</td>\n",
       "      <td>6.00</td>\n",
       "      <td>20.00</td>\n",
       "      <td>55.00</td>\n",
       "      <td>681.00</td>\n",
       "    </tr>\n",
       "    <tr>\n",
       "      <th>Strikes To Leg</th>\n",
       "      <td>2420.0</td>\n",
       "      <td>34.231405</td>\n",
       "      <td>52.415591</td>\n",
       "      <td>0.0</td>\n",
       "      <td>4.00</td>\n",
       "      <td>15.00</td>\n",
       "      <td>42.00</td>\n",
       "      <td>508.00</td>\n",
       "    </tr>\n",
       "  </tbody>\n",
       "</table>\n",
       "</div>"
      ],
      "text/plain": [
       "                                          count        mean         std  min    25%     50%     75%      max\n",
       "Strikes Landed                           2689.0  191.338044  274.986785  0.0  16.00   83.00  253.00  2975.00\n",
       "Strikes Attempted                        2689.0  433.875418  620.175338  0.0  40.00  195.00  560.00  6324.00\n",
       "Takedowns Landed                         2689.0    2.347713    6.967769  0.0   0.00    0.00    1.00    90.00\n",
       "Takedowns Attempted                      2689.0   15.307921   25.264281  0.0   1.00    6.00   18.00   274.00\n",
       "Significant strikes Absorbed per minute  2689.0    3.414277    3.187426  0.0   2.07    3.15    4.35    84.00\n",
       "Takedown Average                         2689.0    1.296527    1.759122  0.0   0.00    0.78    2.00    29.03\n",
       "Submission Average                       2689.0    0.587531    1.430495  0.0   0.00    0.00    0.75    29.03\n",
       "Significant Strike Defense               2689.0   45.251023   20.736222  0.0  41.00   52.00   59.00   100.00\n",
       "Strikes to Head                          2420.0  134.948347  183.439109  0.0  19.00   65.00  177.00  2040.00\n",
       "Strikes To Body                          2420.0   43.426860   62.161241  0.0   6.00   20.00   55.00   681.00\n",
       "Strikes To Leg                           2420.0   34.231405   52.415591  0.0   4.00   15.00   42.00   508.00"
      ]
     },
     "execution_count": 11,
     "metadata": {},
     "output_type": "execute_result"
    }
   ],
   "source": [
    "df.describe().T"
   ]
  },
  {
   "cell_type": "code",
   "execution_count": 4,
   "id": "0581ce03",
   "metadata": {},
   "outputs": [
    {
     "data": {
      "text/plain": [
       "name                                        object\n",
       "wins_losses_draw                            object\n",
       "Strikes Landed                               int64\n",
       "Strikes Attempted                            int64\n",
       "Takedowns Landed                           float64\n",
       "Takedowns Attempted                          int64\n",
       "Significant strikes per Minute              object\n",
       "Significant strikes Absorbed per minute    float64\n",
       "Takedown Average                           float64\n",
       "Submission Average                         float64\n",
       "Significant Strike Defense                 float64\n",
       "Takedown Defense                            object\n",
       "Knockdown Average                           object\n",
       "Average FIght Time                          object\n",
       "Standing Position Strikes                   object\n",
       "Clinch Position Strikes                     object\n",
       "Ground Position Strikes                     object\n",
       "Wins by KO                                  object\n",
       "Wins by Submission                          object\n",
       "Wins by Decision                            object\n",
       "Strikes to Head                            float64\n",
       "Strikes To Body                            float64\n",
       "Strikes To Leg                             float64\n",
       "dtype: object"
      ]
     },
     "execution_count": 4,
     "metadata": {},
     "output_type": "execute_result"
    }
   ],
   "source": [
    "df.dtypes"
   ]
  },
  {
   "cell_type": "code",
   "execution_count": 5,
   "id": "d18bc010",
   "metadata": {},
   "outputs": [
    {
     "data": {
      "text/plain": [
       "name                                          4\n",
       "wins_losses_draw                             21\n",
       "Strikes Landed                                0\n",
       "Strikes Attempted                             0\n",
       "Takedowns Landed                           1294\n",
       "Takedowns Attempted                           0\n",
       "Significant strikes per Minute                0\n",
       "Significant strikes Absorbed per minute       0\n",
       "Takedown Average                              0\n",
       "Submission Average                            0\n",
       "Significant Strike Defense                    0\n",
       "Takedown Defense                              0\n",
       "Knockdown Average                             0\n",
       "Average FIght Time                            0\n",
       "Standing Position Strikes                     0\n",
       "Clinch Position Strikes                       0\n",
       "Ground Position Strikes                       0\n",
       "Wins by KO                                    0\n",
       "Wins by Submission                            0\n",
       "Wins by Decision                              0\n",
       "Strikes to Head                             269\n",
       "Strikes To Body                             269\n",
       "Strikes To Leg                              269\n",
       "dtype: int64"
      ]
     },
     "execution_count": 5,
     "metadata": {},
     "output_type": "execute_result"
    }
   ],
   "source": [
    "df.isna().sum()"
   ]
  },
  {
   "cell_type": "code",
   "execution_count": 6,
   "id": "ac9d09e1",
   "metadata": {},
   "outputs": [],
   "source": [
    "df[\"Takedowns Landed\"].fillna(0, inplace = True)"
   ]
  },
  {
   "cell_type": "markdown",
   "id": "4da6eeac",
   "metadata": {},
   "source": [
    "#### All the null values have been removed"
   ]
  },
  {
   "cell_type": "code",
   "execution_count": 13,
   "id": "f84e9b07",
   "metadata": {},
   "outputs": [],
   "source": [
    "df = df.dropna()"
   ]
  },
  {
   "cell_type": "code",
   "execution_count": 14,
   "id": "a2f98074",
   "metadata": {},
   "outputs": [
    {
     "data": {
      "text/plain": [
       "name                                       0\n",
       "wins_losses_draw                           0\n",
       "Strikes Landed                             0\n",
       "Strikes Attempted                          0\n",
       "Takedowns Landed                           0\n",
       "Takedowns Attempted                        0\n",
       "Significant strikes per Minute             0\n",
       "Significant strikes Absorbed per minute    0\n",
       "Takedown Average                           0\n",
       "Submission Average                         0\n",
       "Significant Strike Defense                 0\n",
       "Takedown Defense                           0\n",
       "Knockdown Average                          0\n",
       "Average FIght Time                         0\n",
       "Standing Position Strikes                  0\n",
       "Clinch Position Strikes                    0\n",
       "Ground Position Strikes                    0\n",
       "Wins by KO                                 0\n",
       "Wins by Submission                         0\n",
       "Wins by Decision                           0\n",
       "Strikes to Head                            0\n",
       "Strikes To Body                            0\n",
       "Strikes To Leg                             0\n",
       "dtype: int64"
      ]
     },
     "execution_count": 14,
     "metadata": {},
     "output_type": "execute_result"
    }
   ],
   "source": [
    "df.isna().sum()"
   ]
  },
  {
   "cell_type": "markdown",
   "id": "af50f02f",
   "metadata": {},
   "source": [
    "### Now it is time to convert the data types of the columns from objects to numeric values."
   ]
  },
  {
   "cell_type": "markdown",
   "id": "b4f4590c",
   "metadata": {},
   "source": [
    "#### Creating the wins,losses and draws columns"
   ]
  },
  {
   "cell_type": "code",
   "execution_count": 17,
   "id": "15ad274c",
   "metadata": {},
   "outputs": [],
   "source": [
    "df['wins']=df['wins_losses_draw'].apply(lambda x: x.split('-')[0])"
   ]
  },
  {
   "cell_type": "code",
   "execution_count": 18,
   "id": "0ff2c1f1",
   "metadata": {},
   "outputs": [],
   "source": [
    "df['losses']=df['wins_losses_draw'].apply(lambda x: x.split('-')[1])"
   ]
  },
  {
   "cell_type": "code",
   "execution_count": 19,
   "id": "5b1108f4",
   "metadata": {},
   "outputs": [],
   "source": [
    "df['draws']=df['wins_losses_draw'].apply(lambda x: x.split('-')[2])"
   ]
  },
  {
   "cell_type": "code",
   "execution_count": 20,
   "id": "b6f51be5",
   "metadata": {},
   "outputs": [],
   "source": [
    "df['draws'] = df['draws'].apply(lambda x: str(x)[0])"
   ]
  },
  {
   "cell_type": "markdown",
   "id": "bfdf41cd",
   "metadata": {},
   "source": [
    "##### Reomving people with 0 fights"
   ]
  },
  {
   "cell_type": "code",
   "execution_count": 33,
   "id": "3438eaa6",
   "metadata": {},
   "outputs": [],
   "source": [
    "df = df.drop(df[df['wins_losses_draw']=='0-0-0 (W-L-D)'].index)"
   ]
  },
  {
   "cell_type": "code",
   "execution_count": null,
   "id": "93a40d18",
   "metadata": {},
   "outputs": [],
   "source": []
  },
  {
   "cell_type": "markdown",
   "id": "ecd255e1",
   "metadata": {},
   "source": [
    "##### Converting Significant strikes per Minute to a numeric column"
   ]
  },
  {
   "cell_type": "code",
   "execution_count": 70,
   "id": "642cb5df",
   "metadata": {},
   "outputs": [],
   "source": [
    "df['Significant strikes per Minute'] = pd.to_numeric(df['Significant strikes per Minute'])"
   ]
  },
  {
   "cell_type": "markdown",
   "id": "f7ff1a07",
   "metadata": {},
   "source": [
    "###### Getting rid of more improperly formatted values and converting takedown defense to a numeric column"
   ]
  },
  {
   "cell_type": "code",
   "execution_count": 25,
   "id": "e69b37ab",
   "metadata": {},
   "outputs": [],
   "source": [
    "df=df.drop(df[df['Takedown Defense'].str.contains(\":\")].index)"
   ]
  },
  {
   "cell_type": "code",
   "execution_count": 27,
   "id": "bc09bfe5",
   "metadata": {},
   "outputs": [],
   "source": [
    "df['Takedown Defense'] = pd.to_numeric(df['Takedown Defense'])"
   ]
  },
  {
   "cell_type": "markdown",
   "id": "bfe32640",
   "metadata": {},
   "source": [
    "###### Converting Knockdown average to numeric column"
   ]
  },
  {
   "cell_type": "code",
   "execution_count": 29,
   "id": "96b73072",
   "metadata": {},
   "outputs": [],
   "source": [
    "df=df.drop(df[df['Knockdown Average'].str.contains(\":\")].index)"
   ]
  },
  {
   "cell_type": "code",
   "execution_count": 30,
   "id": "550a6537",
   "metadata": {},
   "outputs": [],
   "source": [
    "df['Knockdown Average'] = pd.to_numeric(df['Knockdown Average'])"
   ]
  },
  {
   "cell_type": "markdown",
   "id": "ea638411",
   "metadata": {},
   "source": [
    "##### Removing fighters with an average fight time of 0"
   ]
  },
  {
   "cell_type": "code",
   "execution_count": 38,
   "id": "d4a1e01d",
   "metadata": {},
   "outputs": [],
   "source": [
    "df = df.drop(df[df['Average FIght Time']=='0'].index)"
   ]
  },
  {
   "cell_type": "markdown",
   "id": "7dcf987b",
   "metadata": {},
   "source": [
    "###### Converting average fight time minutes and seconds into a numeric value"
   ]
  },
  {
   "cell_type": "code",
   "execution_count": null,
   "id": "d599cd12",
   "metadata": {},
   "outputs": [],
   "source": [
    "def convertTime(x):\n",
    "    c = x.split(':')\n",
    "    mins=float(c[0])\n",
    "    secs = float(c[1])/60\n",
    "    \n",
    "    return round((mins+secs),2)\n",
    "\n",
    "df['Average FIght Time'] = df['Average FIght Time'].apply(convertTime)"
   ]
  },
  {
   "cell_type": "code",
   "execution_count": 41,
   "id": "382efe26",
   "metadata": {},
   "outputs": [],
   "source": [
    "df['Average FIght Time'] = pd.to_numeric(df['Average FIght Time'])"
   ]
  },
  {
   "cell_type": "code",
   "execution_count": 42,
   "id": "af9ad586",
   "metadata": {},
   "outputs": [
    {
     "data": {
      "text/plain": [
       "name                                        object\n",
       "wins_losses_draw                            object\n",
       "Strikes Landed                               int64\n",
       "Strikes Attempted                            int64\n",
       "Takedowns Landed                           float64\n",
       "Takedowns Attempted                          int64\n",
       "Significant strikes per Minute              object\n",
       "Significant strikes Absorbed per minute    float64\n",
       "Takedown Average                           float64\n",
       "Submission Average                         float64\n",
       "Significant Strike Defense                 float64\n",
       "Takedown Defense                           float64\n",
       "Knockdown Average                          float64\n",
       "Average FIght Time                         float64\n",
       "Standing Position Strikes                   object\n",
       "Clinch Position Strikes                     object\n",
       "Ground Position Strikes                     object\n",
       "Wins by KO                                  object\n",
       "Wins by Submission                          object\n",
       "Wins by Decision                            object\n",
       "Strikes to Head                            float64\n",
       "Strikes To Body                            float64\n",
       "Strikes To Leg                             float64\n",
       "wins                                        object\n",
       "losses                                      object\n",
       "draws                                       object\n",
       "dtype: object"
      ]
     },
     "execution_count": 42,
     "metadata": {},
     "output_type": "execute_result"
    }
   ],
   "source": [
    "df.dtypes"
   ]
  },
  {
   "cell_type": "markdown",
   "id": "514ed58d",
   "metadata": {},
   "source": [
    "###### Coverting Standing Position Strikes, Clinch Position Strikes, Ground Position Strikes, Wins by KO, Wins by Submission, Wins by Decision to numeric values"
   ]
  },
  {
   "cell_type": "code",
   "execution_count": null,
   "id": "02458683",
   "metadata": {},
   "outputs": [],
   "source": []
  },
  {
   "cell_type": "code",
   "execution_count": 45,
   "id": "5c20541c",
   "metadata": {},
   "outputs": [],
   "source": [
    "def convertPercent(y):\n",
    "    d=y.split(\"(\")\n",
    "    x=d[1].split(\")\")\n",
    "    z=x[0].split(\"%\")\n",
    "    \n",
    "    return float(z[0])/100"
   ]
  },
  {
   "cell_type": "code",
   "execution_count": 47,
   "id": "f528fe25",
   "metadata": {},
   "outputs": [],
   "source": [
    "df['Standing Position Strikes'] = df['Standing Position Strikes'].apply(convertPercent)"
   ]
  },
  {
   "cell_type": "code",
   "execution_count": 48,
   "id": "d2b67cb3",
   "metadata": {},
   "outputs": [],
   "source": [
    "df['Clinch Position Strikes'] = df['Clinch Position Strikes'].apply(convertPercent)"
   ]
  },
  {
   "cell_type": "code",
   "execution_count": 49,
   "id": "d1fcb000",
   "metadata": {},
   "outputs": [],
   "source": [
    "df['Ground Position Strikes'] = df['Ground Position Strikes'].apply(convertPercent)"
   ]
  },
  {
   "cell_type": "code",
   "execution_count": 50,
   "id": "7762781e",
   "metadata": {},
   "outputs": [],
   "source": [
    "df['Wins by KO'] = df['Wins by KO'].apply(convertPercent)"
   ]
  },
  {
   "cell_type": "code",
   "execution_count": 52,
   "id": "c266b39d",
   "metadata": {},
   "outputs": [],
   "source": [
    "df['Wins by Submission'] = df['Wins by Submission'].apply(convertPercent)\n",
    "df['Wins by Decision'] = df['Wins by Decision'].apply(convertPercent)"
   ]
  },
  {
   "cell_type": "code",
   "execution_count": null,
   "id": "ecbe8e20",
   "metadata": {},
   "outputs": [],
   "source": []
  },
  {
   "cell_type": "markdown",
   "id": "ceceb280",
   "metadata": {},
   "source": [
    "###### Convert wins, losses, and draws to numeric values"
   ]
  },
  {
   "cell_type": "code",
   "execution_count": 54,
   "id": "078c521d",
   "metadata": {},
   "outputs": [],
   "source": [
    "df['wins'] = pd.to_numeric(df['wins'])\n",
    "df['losses'] = pd.to_numeric(df['losses'])\n",
    "df['draws'] = pd.to_numeric(df['draws'])"
   ]
  },
  {
   "cell_type": "code",
   "execution_count": 55,
   "id": "d2d53c50",
   "metadata": {},
   "outputs": [
    {
     "data": {
      "text/plain": [
       "name                                        object\n",
       "wins_losses_draw                            object\n",
       "Strikes Landed                               int64\n",
       "Strikes Attempted                            int64\n",
       "Takedowns Landed                           float64\n",
       "Takedowns Attempted                          int64\n",
       "Significant strikes per Minute              object\n",
       "Significant strikes Absorbed per minute    float64\n",
       "Takedown Average                           float64\n",
       "Submission Average                         float64\n",
       "Significant Strike Defense                 float64\n",
       "Takedown Defense                           float64\n",
       "Knockdown Average                          float64\n",
       "Average FIght Time                         float64\n",
       "Standing Position Strikes                  float64\n",
       "Clinch Position Strikes                    float64\n",
       "Ground Position Strikes                    float64\n",
       "Wins by KO                                 float64\n",
       "Wins by Submission                         float64\n",
       "Wins by Decision                           float64\n",
       "Strikes to Head                            float64\n",
       "Strikes To Body                            float64\n",
       "Strikes To Leg                             float64\n",
       "wins                                         int64\n",
       "losses                                       int64\n",
       "draws                                        int64\n",
       "dtype: object"
      ]
     },
     "execution_count": 55,
     "metadata": {},
     "output_type": "execute_result"
    }
   ],
   "source": [
    "df.dtypes"
   ]
  },
  {
   "cell_type": "markdown",
   "id": "f3c6b46e",
   "metadata": {},
   "source": [
    "##### dropping values that got scraped incorrectly"
   ]
  },
  {
   "cell_type": "code",
   "execution_count": 56,
   "id": "cad1028c",
   "metadata": {},
   "outputs": [],
   "source": [
    "df = df.drop(df[(df['Takedowns Attempted'] >10) & (df['Takedowns Landed']==0)].index)"
   ]
  },
  {
   "cell_type": "code",
   "execution_count": 57,
   "id": "383b8990",
   "metadata": {},
   "outputs": [
    {
     "data": {
      "text/html": [
       "<div>\n",
       "<style scoped>\n",
       "    .dataframe tbody tr th:only-of-type {\n",
       "        vertical-align: middle;\n",
       "    }\n",
       "\n",
       "    .dataframe tbody tr th {\n",
       "        vertical-align: top;\n",
       "    }\n",
       "\n",
       "    .dataframe thead th {\n",
       "        text-align: right;\n",
       "    }\n",
       "</style>\n",
       "<table border=\"1\" class=\"dataframe\">\n",
       "  <thead>\n",
       "    <tr style=\"text-align: right;\">\n",
       "      <th></th>\n",
       "      <th>name</th>\n",
       "      <th>wins_losses_draw</th>\n",
       "      <th>Strikes Landed</th>\n",
       "      <th>Strikes Attempted</th>\n",
       "      <th>Takedowns Landed</th>\n",
       "      <th>Takedowns Attempted</th>\n",
       "      <th>Significant strikes per Minute</th>\n",
       "      <th>Significant strikes Absorbed per minute</th>\n",
       "      <th>Takedown Average</th>\n",
       "      <th>Submission Average</th>\n",
       "      <th>Significant Strike Defense</th>\n",
       "      <th>Takedown Defense</th>\n",
       "      <th>Knockdown Average</th>\n",
       "      <th>Average FIght Time</th>\n",
       "      <th>Standing Position Strikes</th>\n",
       "      <th>Clinch Position Strikes</th>\n",
       "      <th>Ground Position Strikes</th>\n",
       "      <th>Wins by KO</th>\n",
       "      <th>Wins by Submission</th>\n",
       "      <th>Wins by Decision</th>\n",
       "      <th>Strikes to Head</th>\n",
       "      <th>Strikes To Body</th>\n",
       "      <th>Strikes To Leg</th>\n",
       "      <th>wins</th>\n",
       "      <th>losses</th>\n",
       "      <th>draws</th>\n",
       "    </tr>\n",
       "  </thead>\n",
       "  <tbody>\n",
       "    <tr>\n",
       "      <th>3</th>\n",
       "      <td>Angga -</td>\n",
       "      <td>0-1-0 (W-L-D)</td>\n",
       "      <td>34</td>\n",
       "      <td>88</td>\n",
       "      <td>0.0</td>\n",
       "      <td>4</td>\n",
       "      <td>3.56</td>\n",
       "      <td>3.77</td>\n",
       "      <td>0.00</td>\n",
       "      <td>0.00</td>\n",
       "      <td>53.0</td>\n",
       "      <td>33.0</td>\n",
       "      <td>0.00</td>\n",
       "      <td>9.55</td>\n",
       "      <td>0.88</td>\n",
       "      <td>0.12</td>\n",
       "      <td>0.00</td>\n",
       "      <td>0.00</td>\n",
       "      <td>0.00</td>\n",
       "      <td>0.00</td>\n",
       "      <td>17.0</td>\n",
       "      <td>6.0</td>\n",
       "      <td>11.0</td>\n",
       "      <td>0</td>\n",
       "      <td>1</td>\n",
       "      <td>0</td>\n",
       "    </tr>\n",
       "    <tr>\n",
       "      <th>4</th>\n",
       "      <td>Danny Abbadi</td>\n",
       "      <td>2-2-0 (W-L-D)</td>\n",
       "      <td>59</td>\n",
       "      <td>155</td>\n",
       "      <td>0.0</td>\n",
       "      <td>0</td>\n",
       "      <td>3.29</td>\n",
       "      <td>4.41</td>\n",
       "      <td>0.00</td>\n",
       "      <td>0.00</td>\n",
       "      <td>58.0</td>\n",
       "      <td>78.0</td>\n",
       "      <td>0.00</td>\n",
       "      <td>8.97</td>\n",
       "      <td>0.71</td>\n",
       "      <td>0.24</td>\n",
       "      <td>0.05</td>\n",
       "      <td>0.00</td>\n",
       "      <td>0.00</td>\n",
       "      <td>0.00</td>\n",
       "      <td>51.0</td>\n",
       "      <td>8.0</td>\n",
       "      <td>0.0</td>\n",
       "      <td>2</td>\n",
       "      <td>2</td>\n",
       "      <td>0</td>\n",
       "    </tr>\n",
       "    <tr>\n",
       "      <th>5</th>\n",
       "      <td>Shamil Abdurakhimov</td>\n",
       "      <td>20-7-0 (W-L-D)</td>\n",
       "      <td>250</td>\n",
       "      <td>566</td>\n",
       "      <td>5.0</td>\n",
       "      <td>30</td>\n",
       "      <td>2.60</td>\n",
       "      <td>2.80</td>\n",
       "      <td>1.09</td>\n",
       "      <td>0.16</td>\n",
       "      <td>58.0</td>\n",
       "      <td>47.0</td>\n",
       "      <td>0.31</td>\n",
       "      <td>9.62</td>\n",
       "      <td>0.67</td>\n",
       "      <td>0.24</td>\n",
       "      <td>0.09</td>\n",
       "      <td>0.45</td>\n",
       "      <td>0.35</td>\n",
       "      <td>0.20</td>\n",
       "      <td>148.0</td>\n",
       "      <td>47.0</td>\n",
       "      <td>55.0</td>\n",
       "      <td>20</td>\n",
       "      <td>7</td>\n",
       "      <td>0</td>\n",
       "    </tr>\n",
       "    <tr>\n",
       "      <th>6</th>\n",
       "      <td>Tank Abbott</td>\n",
       "      <td>8-10-0 (W-L-D)</td>\n",
       "      <td>12</td>\n",
       "      <td>31</td>\n",
       "      <td>0.0</td>\n",
       "      <td>0</td>\n",
       "      <td>2.41</td>\n",
       "      <td>10.03</td>\n",
       "      <td>0.00</td>\n",
       "      <td>0.00</td>\n",
       "      <td>38.0</td>\n",
       "      <td>67.0</td>\n",
       "      <td>0.00</td>\n",
       "      <td>1.67</td>\n",
       "      <td>0.33</td>\n",
       "      <td>0.58</td>\n",
       "      <td>0.08</td>\n",
       "      <td>0.00</td>\n",
       "      <td>0.00</td>\n",
       "      <td>0.00</td>\n",
       "      <td>12.0</td>\n",
       "      <td>0.0</td>\n",
       "      <td>0.0</td>\n",
       "      <td>8</td>\n",
       "      <td>10</td>\n",
       "      <td>0</td>\n",
       "    </tr>\n",
       "    <tr>\n",
       "      <th>11</th>\n",
       "      <td>Zarrukh Adashev</td>\n",
       "      <td>4-4-0 (W-L-D)</td>\n",
       "      <td>115</td>\n",
       "      <td>285</td>\n",
       "      <td>0.0</td>\n",
       "      <td>5</td>\n",
       "      <td>3.65</td>\n",
       "      <td>3.04</td>\n",
       "      <td>0.00</td>\n",
       "      <td>0.48</td>\n",
       "      <td>65.0</td>\n",
       "      <td>100.0</td>\n",
       "      <td>0.00</td>\n",
       "      <td>7.88</td>\n",
       "      <td>0.93</td>\n",
       "      <td>0.05</td>\n",
       "      <td>0.02</td>\n",
       "      <td>0.50</td>\n",
       "      <td>0.50</td>\n",
       "      <td>0.00</td>\n",
       "      <td>76.0</td>\n",
       "      <td>16.0</td>\n",
       "      <td>23.0</td>\n",
       "      <td>4</td>\n",
       "      <td>4</td>\n",
       "      <td>0</td>\n",
       "    </tr>\n",
       "    <tr>\n",
       "      <th>...</th>\n",
       "      <td>...</td>\n",
       "      <td>...</td>\n",
       "      <td>...</td>\n",
       "      <td>...</td>\n",
       "      <td>...</td>\n",
       "      <td>...</td>\n",
       "      <td>...</td>\n",
       "      <td>...</td>\n",
       "      <td>...</td>\n",
       "      <td>...</td>\n",
       "      <td>...</td>\n",
       "      <td>...</td>\n",
       "      <td>...</td>\n",
       "      <td>...</td>\n",
       "      <td>...</td>\n",
       "      <td>...</td>\n",
       "      <td>...</td>\n",
       "      <td>...</td>\n",
       "      <td>...</td>\n",
       "      <td>...</td>\n",
       "      <td>...</td>\n",
       "      <td>...</td>\n",
       "      <td>...</td>\n",
       "      <td>...</td>\n",
       "      <td>...</td>\n",
       "      <td>...</td>\n",
       "    </tr>\n",
       "    <tr>\n",
       "      <th>2680</th>\n",
       "      <td>Konstantin Erokhin</td>\n",
       "      <td>9-3-0 (W-L-D)</td>\n",
       "      <td>32</td>\n",
       "      <td>87</td>\n",
       "      <td>0.0</td>\n",
       "      <td>0</td>\n",
       "      <td>1.07</td>\n",
       "      <td>1.83</td>\n",
       "      <td>0.00</td>\n",
       "      <td>0.00</td>\n",
       "      <td>47.0</td>\n",
       "      <td>70.0</td>\n",
       "      <td>0.00</td>\n",
       "      <td>15.00</td>\n",
       "      <td>0.78</td>\n",
       "      <td>0.22</td>\n",
       "      <td>0.00</td>\n",
       "      <td>0.89</td>\n",
       "      <td>0.11</td>\n",
       "      <td>0.00</td>\n",
       "      <td>23.0</td>\n",
       "      <td>7.0</td>\n",
       "      <td>2.0</td>\n",
       "      <td>9</td>\n",
       "      <td>3</td>\n",
       "      <td>0</td>\n",
       "    </tr>\n",
       "    <tr>\n",
       "      <th>2681</th>\n",
       "      <td>Julian Erosa</td>\n",
       "      <td>27-10-0 (W-L-D)</td>\n",
       "      <td>613</td>\n",
       "      <td>1256</td>\n",
       "      <td>3.0</td>\n",
       "      <td>21</td>\n",
       "      <td>6.29</td>\n",
       "      <td>6.51</td>\n",
       "      <td>1.69</td>\n",
       "      <td>0.77</td>\n",
       "      <td>48.0</td>\n",
       "      <td>62.0</td>\n",
       "      <td>0.31</td>\n",
       "      <td>8.87</td>\n",
       "      <td>0.81</td>\n",
       "      <td>0.15</td>\n",
       "      <td>0.04</td>\n",
       "      <td>0.30</td>\n",
       "      <td>0.38</td>\n",
       "      <td>0.32</td>\n",
       "      <td>392.0</td>\n",
       "      <td>159.0</td>\n",
       "      <td>62.0</td>\n",
       "      <td>27</td>\n",
       "      <td>10</td>\n",
       "      <td>0</td>\n",
       "    </tr>\n",
       "    <tr>\n",
       "      <th>2683</th>\n",
       "      <td>John-Olav Einemo</td>\n",
       "      <td>6-3-0 (W-L-D)</td>\n",
       "      <td>93</td>\n",
       "      <td>177</td>\n",
       "      <td>0.0</td>\n",
       "      <td>9</td>\n",
       "      <td>2.15</td>\n",
       "      <td>3.05</td>\n",
       "      <td>1.73</td>\n",
       "      <td>0.00</td>\n",
       "      <td>52.0</td>\n",
       "      <td>44.0</td>\n",
       "      <td>0.00</td>\n",
       "      <td>14.43</td>\n",
       "      <td>0.66</td>\n",
       "      <td>0.32</td>\n",
       "      <td>0.02</td>\n",
       "      <td>0.00</td>\n",
       "      <td>0.00</td>\n",
       "      <td>0.00</td>\n",
       "      <td>54.0</td>\n",
       "      <td>19.0</td>\n",
       "      <td>20.0</td>\n",
       "      <td>6</td>\n",
       "      <td>3</td>\n",
       "      <td>0</td>\n",
       "    </tr>\n",
       "    <tr>\n",
       "      <th>2687</th>\n",
       "      <td>Elizeu Zaleski dos Santos</td>\n",
       "      <td>23-7-0 (W-L-D)</td>\n",
       "      <td>677</td>\n",
       "      <td>1604</td>\n",
       "      <td>2.0</td>\n",
       "      <td>33</td>\n",
       "      <td>4.65</td>\n",
       "      <td>3.22</td>\n",
       "      <td>0.52</td>\n",
       "      <td>0.41</td>\n",
       "      <td>59.0</td>\n",
       "      <td>62.0</td>\n",
       "      <td>0.21</td>\n",
       "      <td>12.12</td>\n",
       "      <td>0.72</td>\n",
       "      <td>0.22</td>\n",
       "      <td>0.06</td>\n",
       "      <td>0.26</td>\n",
       "      <td>0.68</td>\n",
       "      <td>0.06</td>\n",
       "      <td>411.0</td>\n",
       "      <td>159.0</td>\n",
       "      <td>107.0</td>\n",
       "      <td>23</td>\n",
       "      <td>7</td>\n",
       "      <td>0</td>\n",
       "    </tr>\n",
       "    <tr>\n",
       "      <th>2688</th>\n",
       "      <td>Hacran Dias</td>\n",
       "      <td>23-6-1 (W-L-D)</td>\n",
       "      <td>249</td>\n",
       "      <td>595</td>\n",
       "      <td>20.0</td>\n",
       "      <td>51</td>\n",
       "      <td>2.08</td>\n",
       "      <td>3.31</td>\n",
       "      <td>2.50</td>\n",
       "      <td>0.50</td>\n",
       "      <td>55.0</td>\n",
       "      <td>77.0</td>\n",
       "      <td>0.00</td>\n",
       "      <td>15.00</td>\n",
       "      <td>0.80</td>\n",
       "      <td>0.09</td>\n",
       "      <td>0.11</td>\n",
       "      <td>0.17</td>\n",
       "      <td>0.48</td>\n",
       "      <td>0.35</td>\n",
       "      <td>171.0</td>\n",
       "      <td>30.0</td>\n",
       "      <td>48.0</td>\n",
       "      <td>23</td>\n",
       "      <td>6</td>\n",
       "      <td>1</td>\n",
       "    </tr>\n",
       "  </tbody>\n",
       "</table>\n",
       "<p>1460 rows × 26 columns</p>\n",
       "</div>"
      ],
      "text/plain": [
       "                           name wins_losses_draw  Strikes Landed  Strikes Attempted  Takedowns Landed  Takedowns Attempted Significant strikes per Minute  Significant strikes Absorbed per minute  Takedown Average  Submission Average  Significant Strike Defense  Takedown Defense  Knockdown Average  Average FIght Time  Standing Position Strikes  Clinch Position Strikes  Ground Position Strikes  Wins by KO  Wins by Submission  Wins by Decision  Strikes to Head  Strikes To Body  Strikes To Leg  wins  losses  draws\n",
       "3                       Angga -    0-1-0 (W-L-D)              34                 88               0.0                    4                           3.56                                     3.77              0.00                0.00                        53.0              33.0               0.00                9.55                       0.88                     0.12                     0.00        0.00                0.00              0.00             17.0              6.0            11.0     0       1      0\n",
       "4                  Danny Abbadi    2-2-0 (W-L-D)              59                155               0.0                    0                           3.29                                     4.41              0.00                0.00                        58.0              78.0               0.00                8.97                       0.71                     0.24                     0.05        0.00                0.00              0.00             51.0              8.0             0.0     2       2      0\n",
       "5           Shamil Abdurakhimov   20-7-0 (W-L-D)             250                566               5.0                   30                           2.60                                     2.80              1.09                0.16                        58.0              47.0               0.31                9.62                       0.67                     0.24                     0.09        0.45                0.35              0.20            148.0             47.0            55.0    20       7      0\n",
       "6                   Tank Abbott   8-10-0 (W-L-D)              12                 31               0.0                    0                           2.41                                    10.03              0.00                0.00                        38.0              67.0               0.00                1.67                       0.33                     0.58                     0.08        0.00                0.00              0.00             12.0              0.0             0.0     8      10      0\n",
       "11              Zarrukh Adashev    4-4-0 (W-L-D)             115                285               0.0                    5                           3.65                                     3.04              0.00                0.48                        65.0             100.0               0.00                7.88                       0.93                     0.05                     0.02        0.50                0.50              0.00             76.0             16.0            23.0     4       4      0\n",
       "...                         ...              ...             ...                ...               ...                  ...                            ...                                      ...               ...                 ...                         ...               ...                ...                 ...                        ...                      ...                      ...         ...                 ...               ...              ...              ...             ...   ...     ...    ...\n",
       "2680         Konstantin Erokhin    9-3-0 (W-L-D)              32                 87               0.0                    0                           1.07                                     1.83              0.00                0.00                        47.0              70.0               0.00               15.00                       0.78                     0.22                     0.00        0.89                0.11              0.00             23.0              7.0             2.0     9       3      0\n",
       "2681               Julian Erosa  27-10-0 (W-L-D)             613               1256               3.0                   21                           6.29                                     6.51              1.69                0.77                        48.0              62.0               0.31                8.87                       0.81                     0.15                     0.04        0.30                0.38              0.32            392.0            159.0            62.0    27      10      0\n",
       "2683           John-Olav Einemo    6-3-0 (W-L-D)              93                177               0.0                    9                           2.15                                     3.05              1.73                0.00                        52.0              44.0               0.00               14.43                       0.66                     0.32                     0.02        0.00                0.00              0.00             54.0             19.0            20.0     6       3      0\n",
       "2687  Elizeu Zaleski dos Santos   23-7-0 (W-L-D)             677               1604               2.0                   33                           4.65                                     3.22              0.52                0.41                        59.0              62.0               0.21               12.12                       0.72                     0.22                     0.06        0.26                0.68              0.06            411.0            159.0           107.0    23       7      0\n",
       "2688                Hacran Dias   23-6-1 (W-L-D)             249                595              20.0                   51                           2.08                                     3.31              2.50                0.50                        55.0              77.0               0.00               15.00                       0.80                     0.09                     0.11        0.17                0.48              0.35            171.0             30.0            48.0    23       6      1\n",
       "\n",
       "[1460 rows x 26 columns]"
      ]
     },
     "execution_count": 57,
     "metadata": {},
     "output_type": "execute_result"
    }
   ],
   "source": [
    "df"
   ]
  },
  {
   "cell_type": "markdown",
   "id": "eeea6858",
   "metadata": {},
   "source": [
    "###### Removing outliers"
   ]
  },
  {
   "cell_type": "code",
   "execution_count": 58,
   "id": "84ac590c",
   "metadata": {},
   "outputs": [],
   "source": [
    "df = df.drop(df[df['Significant strikes Absorbed per minute']>9].index)"
   ]
  },
  {
   "cell_type": "code",
   "execution_count": 59,
   "id": "f375799a",
   "metadata": {},
   "outputs": [],
   "source": [
    "df.drop(df[df[\"wins\"]>45].index, inplace=True)"
   ]
  },
  {
   "cell_type": "code",
   "execution_count": 77,
   "id": "d0826f66",
   "metadata": {},
   "outputs": [],
   "source": [
    "df.drop(df[df['Submission Average']>6].index, inplace=True)"
   ]
  },
  {
   "cell_type": "markdown",
   "id": "a33ac740",
   "metadata": {},
   "source": [
    "###### Feature Engineering"
   ]
  },
  {
   "cell_type": "code",
   "execution_count": 84,
   "id": "58997f27",
   "metadata": {},
   "outputs": [],
   "source": [
    "df[\"Striking Accuracy\"] = df[\"Strikes Landed\"]/df[\"Strikes Attempted\"]\n",
    "df[\"Takedown Accuracy\"] = df['Takedowns Landed']/df['Takedowns Attempted']\n",
    "df['Total Fights'] = df[\"wins\"] + df['losses'] + df['draws']"
   ]
  },
  {
   "cell_type": "code",
   "execution_count": 85,
   "id": "aeb81d0d",
   "metadata": {},
   "outputs": [],
   "source": [
    "df['Significant Strike Defense'] = df['Significant Strike Defense']/100"
   ]
  },
  {
   "cell_type": "code",
   "execution_count": 86,
   "id": "1404c29b",
   "metadata": {},
   "outputs": [],
   "source": [
    "df['Takedown Defense'] = df['Takedown Defense']/100"
   ]
  },
  {
   "cell_type": "code",
   "execution_count": 87,
   "id": "de231bde",
   "metadata": {},
   "outputs": [],
   "source": [
    "df['Win Percentage'] = df['wins']/df['Total Fights']"
   ]
  },
  {
   "cell_type": "code",
   "execution_count": null,
   "id": "aae5715e",
   "metadata": {},
   "outputs": [],
   "source": [
    "df.to_csv('clean_data.csv', index=False)"
   ]
  }
 ],
 "metadata": {
  "kernelspec": {
   "display_name": "Python 3 (ipykernel)",
   "language": "python",
   "name": "python3"
  },
  "language_info": {
   "codemirror_mode": {
    "name": "ipython",
    "version": 3
   },
   "file_extension": ".py",
   "mimetype": "text/x-python",
   "name": "python",
   "nbconvert_exporter": "python",
   "pygments_lexer": "ipython3",
   "version": "3.9.12"
  }
 },
 "nbformat": 4,
 "nbformat_minor": 5
}
